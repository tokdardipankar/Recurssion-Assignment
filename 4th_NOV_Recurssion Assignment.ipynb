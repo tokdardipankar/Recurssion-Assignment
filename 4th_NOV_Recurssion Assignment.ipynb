{
 "cells": [
  {
   "cell_type": "raw",
   "id": "78ae6c8e-a64b-414d-8009-9b1203dcc3d1",
   "metadata": {},
   "source": [
    "Q.1 Can you explain the logic and working of the Tower of Hanoi algorithm by writing a Java program?\n",
    "How does the recursion work, and how are the movements of disks between rods accomplished?"
   ]
  },
  {
   "cell_type": "code",
   "execution_count": 20,
   "id": "355b3b9d-007e-4d4f-9a5a-f1428b47bdae",
   "metadata": {},
   "outputs": [
    {
     "name": "stdout",
     "output_type": "stream",
     "text": [
      "Move disk from A to C\n",
      "Move disk from A to B\n",
      "Move disk from C to B\n",
      "Move disk from A to C\n",
      "Move disk from B to A\n",
      "Move disk from B to C\n",
      "Move disk from A to C\n"
     ]
    }
   ],
   "source": [
    "# Tower of Hanoi Algorithm\n",
    "# Time Complexity: O(2^n) - grows exponentially with the number of disks\n",
    "# Space Complexity: O(n) - due to recursive calls consuming space on the call stack\n",
    "\n",
    "# Method definition for Tower of Hanoi function\n",
    "def toh(n, source, auxiliary, target):\n",
    "    # Base case: If there's only one disk, move it from source to target\n",
    "    if n == 1:\n",
    "        print(f\"Move disk from {source} to {target}\")\n",
    "    else:\n",
    "        # Recursive step: Move n-1 disks from source to auxiliary\n",
    "        # using target as the auxiliary peg\n",
    "        toh(n - 1, source, target, auxiliary)\n",
    "        # Move the nth disk from source to target\n",
    "        print(f\"Move disk from {source} to {target}\")\n",
    "        # Recursive step: Move the n-1 disks from auxiliary to target\n",
    "        # using source as the auxiliary peg\n",
    "        toh(n - 1, auxiliary, source, target)\n",
    "\n",
    "# Driver code\n",
    "n = 3 # Number of disks\n",
    "toh(n, \"A\", \"B\", \"C\")  # Calling the Tower of Hanoi function with initial pegs\n"
   ]
  },
  {
   "cell_type": "raw",
   "id": "553d0ab9-1ebb-408a-8b62-59123e4e8c6e",
   "metadata": {},
   "source": [
    "Description:\n",
    "This code defines a recursive function toh to solve the Tower of Hanoi problem for n disks, where source, auxiliary, and target represent the three pegs. If n is 1, it prints the move to transfer the disk directly from the source peg to the target peg. Otherwise, it recursively moves n-1 disks from the source to the auxiliary peg, then moves the nth disk from the source to the target peg, and finally recursively moves the n-1 disks from the auxiliary peg to the target peg.\n",
    "\n",
    "The driver code initializes n to 3 and calls the toh function with the initial peg configurations \"A\", \"B\", and \"C\". This demonstrates the Tower of Hanoi problem solution for 3 disks.\n",
    "Time Complexity: O(2^n) - grows exponentially with the number of disks\n",
    "Space Complexity: O(n) - due to recursive calls consuming space on the call stack"
   ]
  },
  {
   "cell_type": "code",
   "execution_count": null,
   "id": "07c18c06-e29b-4133-8529-92bdf02183e7",
   "metadata": {},
   "outputs": [],
   "source": []
  },
  {
   "cell_type": "raw",
   "id": "c4743d18-a745-4ae1-85bb-4bcb6cad38ea",
   "metadata": {},
   "source": [
    "Q.2 Given two strings word1 and word2, return the minimum number of operations required to convert word1 \n",
    "to word2."
   ]
  },
  {
   "cell_type": "code",
   "execution_count": 1,
   "id": "3c19c2a0-8ec1-49a2-989a-7ddc74e7d302",
   "metadata": {},
   "outputs": [
    {
     "name": "stdout",
     "output_type": "stream",
     "text": [
      "Minimum number of operations required: 3\n"
     ]
    }
   ],
   "source": [
    "##Time complexity O(3^m)\n",
    "##Space complexity O(m)\n",
    "#Method defination\n",
    "def minDistanceRec(word1, word2, i, j):\n",
    "    \"\"\"\n",
    "    Recursively calculates the minimum number of operations to convert word1 to word2.\n",
    "\n",
    "    Args:\n",
    "        word1: The first string.\n",
    "        word2: The second string.\n",
    "        i: Index of the current character in word1.\n",
    "        j: Index of the current character in word2.\n",
    "\n",
    "    Returns:\n",
    "        The minimum number of operations required.\n",
    "    \"\"\"\n",
    "\n",
    "    # Base cases:\n",
    "    if i == len(word1):  # If word1 is empty, insert all characters of word2\n",
    "        return len(word2) - j\n",
    "    if j == len(word2):  # If word2 is empty, delete all characters of word1\n",
    "        return len(word1) - i\n",
    "\n",
    "    # If characters match, no operation is required\n",
    "    if word1[i] == word2[j]:\n",
    "        return minDistanceRec(word1, word2, i + 1, j + 1)\n",
    "\n",
    "    # Choose the minimum of insert, delete, or replace\n",
    "    return 1 + min(minDistanceRec(word1, word2, i + 1, j),  # Insert\n",
    "                   minDistanceRec(word1, word2, i, j + 1),  # Delete\n",
    "                   minDistanceRec(word1, word2, i + 1, j + 1))  # Replace\n",
    "\n",
    "\n",
    "def minDistance(word1, word2):\n",
    "    \"\"\"\n",
    "    Wrapper function to call the recursive function with initial indices.\n",
    "    \"\"\"\n",
    "    return minDistanceRec(word1, word2, 0, 0)\n",
    "\n",
    "# Driver code\n",
    "word1 = \"horse\"\n",
    "word2 = \"ros\"\n",
    "min_distance = minDistance(word1, word2)\n",
    "print(f\"Minimum number of operations required: {min_distance}\")\n"
   ]
  },
  {
   "cell_type": "raw",
   "id": "8a099226-d16b-4380-8129-1ba05c248c3b",
   "metadata": {},
   "source": [
    "Description:\n",
    "Base Cases: Handle scenarios where one of the strings is empty.\n",
    "Recursive Case:\n",
    "If characters match, recurse without any operation.\n",
    "Otherwise, calculate the minimum operations for insert, delete, and replace, and return the minimum value plus 1."
   ]
  },
  {
   "cell_type": "code",
   "execution_count": null,
   "id": "dddebed3-92af-462a-b38a-cf74e42d6a7a",
   "metadata": {},
   "outputs": [],
   "source": []
  },
  {
   "cell_type": "raw",
   "id": "1f498ca0-2c3e-49c6-a91f-cc7b114831eb",
   "metadata": {},
   "source": [
    "Q. 3 Print the max value of the array [ 13, 1, -3, 22, 5]."
   ]
  },
  {
   "cell_type": "code",
   "execution_count": 16,
   "id": "ae540de8-e0f8-4f30-897c-9ce322cf4d5c",
   "metadata": {},
   "outputs": [
    {
     "name": "stdout",
     "output_type": "stream",
     "text": [
      "Max value = 22\n"
     ]
    }
   ],
   "source": [
    "# METHOD DEFINITION OF MAXIMUM VALUE FUNCTION\n",
    "# TIME COMPLEXITY = O(n)\n",
    "# SPACE COMPLEXITY = O(1)\n",
    "def maxi_val(arr):\n",
    "    # Initialize the maximum value to 0\n",
    "    mval = 0\n",
    "    \n",
    "    # Iterate through the elements of the array\n",
    "    for i in range(len(arr)):\n",
    "        # Check if the current element is greater than or equal to the maximum value found so far\n",
    "        if arr[i] >= mval:\n",
    "            # Update the maximum value if the current element is greater\n",
    "            mval = arr[i]\n",
    "    \n",
    "    # Return the maximum value found\n",
    "    return mval\n",
    "\n",
    "# Driver code\n",
    "arr = [13, 1, -3, 22, 5]\n",
    "print(f\"Max value = {maxi_val(arr)}\")"
   ]
  },
  {
   "cell_type": "raw",
   "id": "62622fd1-c072-4100-b0e0-72d06acf53b3",
   "metadata": {},
   "source": [
    "DESCRIPTION:\n",
    "The maxi_val function takes an array arr as input and aims to find the maximum value in that array.\n",
    "It initializes a variable mval to 0 to store the maximum value found so far.\n",
    "It iterates through each element of the array using a for loop.\n",
    "Within the loop, it checks if the current element is greater than or equal to the maximum value (mval) found so far. If it is, the maximum value is updated to the current element.\n",
    "After iterating through all elements, it returns the maximum value found.\n",
    "The driver code initializes an array arr, calls the maxi_val function with this array, and prints the maximum value returned by the function.\n",
    "The time complexity of this is code O(n) and space complexity is O(1) "
   ]
  },
  {
   "cell_type": "code",
   "execution_count": null,
   "id": "f9c13b92-bfe3-49af-acae-ff2d2c38524e",
   "metadata": {},
   "outputs": [],
   "source": []
  },
  {
   "cell_type": "raw",
   "id": "e842b007-eec9-4720-ae35-c407bff08400",
   "metadata": {},
   "source": [
    "Q.4 Find the sum of the values of the array [92, 23, 15, -20, 10]."
   ]
  },
  {
   "cell_type": "code",
   "execution_count": 25,
   "id": "447b58e5-d90c-4daf-b9ff-3694ce7bb74a",
   "metadata": {},
   "outputs": [
    {
     "name": "stdout",
     "output_type": "stream",
     "text": [
      "Sum value = 120\n"
     ]
    }
   ],
   "source": [
    "# Method definition of Sum function \n",
    "# Time complexity = O(n)\n",
    "# Space complexity = O(1)\n",
    "def sum_val(arr):\n",
    "    # Initialize a variable to store the sum value\n",
    "    s_val = 0\n",
    "    \n",
    "    # Iterate through each element of the array\n",
    "    for i in range(len(arr)):\n",
    "        # Add the current element to the sum value\n",
    "        s_val += arr[i]\n",
    "    \n",
    "    # Return the sum value\n",
    "    return s_val\n",
    "\n",
    "# Driver code\n",
    "# Initialize an array\n",
    "arr = [92, 23, 15, -20, 10]\n",
    "\n",
    "# Call the sum_val function with the array and print the sum value\n",
    "print(f\"Sum value = {sum_val(arr)}\")"
   ]
  },
  {
   "cell_type": "raw",
   "id": "6e089faf-0099-47ad-b4b1-a7d1ad5dd0e0",
   "metadata": {},
   "source": [
    "Description:\n",
    "The sum_val function takes an array arr as input and calculates the sum of all elements in the array.\n",
    "It initializes a variable s_val to 0 to store the sum value.\n",
    "The function iterates through each element of the array using a for loop.\n",
    "Within the loop, it adds each element to the sum value (s_val).\n",
    "After iterating through all elements, it returns the final sum value.\n",
    "The driver code initializes an array arr, calls the sum_val function with this array, and prints the sum value returned by the function.\n",
    "Time complexity is linear O(n)\n",
    "Space complexity is constant O(1)"
   ]
  },
  {
   "cell_type": "code",
   "execution_count": null,
   "id": "31cf0db8-c2b5-4dd0-8306-b183e850e910",
   "metadata": {},
   "outputs": [],
   "source": []
  },
  {
   "cell_type": "raw",
   "id": "7d24dcbe-99e8-4e5a-bfa9-6e9ef9539af2",
   "metadata": {},
   "source": [
    "Q.5 Given a number n. Print if it is an armstrong number or not.An armstrong number is a number if the sum\n",
    "of every digit in that number raised to the power of total digits in that number is equal to the number.\n",
    "Example : 153 = 1^3 + 5^3 + 3^3 = 1 + 125 + 27 = 153 hence 153 is an armstrong number. (Easy)\n",
    "Input1 : 153\n",
    "Output1 : Yes\n",
    "Input 2 : 134\n",
    "Output2 : No"
   ]
  },
  {
   "cell_type": "code",
   "execution_count": 42,
   "id": "d0305a84-3782-4423-95d5-2f02bf6e4e64",
   "metadata": {},
   "outputs": [
    {
     "name": "stdin",
     "output_type": "stream",
     "text": [
      "Enter your value here:  153\n"
     ]
    },
    {
     "name": "stdout",
     "output_type": "stream",
     "text": [
      "Output = True\n"
     ]
    }
   ],
   "source": [
    "#Time complexity=O(d) '''d= number of digit'''\n",
    "##space complexity=O(d) '''d= number of digit'''\n",
    "# Function to check if a number is an Armstrong number\n",
    "def armstrong_num(n, p):\n",
    "    # Base case: If n is a single digit number, return n raised to the power p\n",
    "    if n < 10:\n",
    "        return n ** p\n",
    "    else:\n",
    "        # Recursive case: Compute the sum of each digit raised to the power p\n",
    "        # by taking the remainder of n divided by 10 and recursively calling\n",
    "        # the function on the remaining digits (n//10)\n",
    "        return (n % 10) ** p + armstrong_num(n // 10, p)\n",
    "\n",
    "# Driver code\n",
    "n = int(input(\"Enter your value here: \"))  # Input from the user\n",
    "p = len(str(n))  # Compute the number of digits in n\n",
    "# Check if the input number is equal to the result of the armstrong_num function\n",
    "if n == armstrong_num(n, p):\n",
    "    print(f\"Output = {True}\")  # Print True if the input number is an Armstrong number\n",
    "else:\n",
    "    print(f\"Output = {False}\")  # Print False if the input number is not an Armstrong number\n"
   ]
  },
  {
   "cell_type": "raw",
   "id": "7d8d4ed2-995c-4b79-a4da-8358938650b2",
   "metadata": {},
   "source": [
    "Description:\n",
    "\n",
    "The code defines a function armstrong_num which checks whether a given number is an Armstrong number or not.\n",
    "An Armstrong number is a number that is equal to the sum of its own digits each raised to the power of the number of digits.\n",
    "The function armstrong_num takes two parameters: n (the number to be checked) and p (the power to which each digit will be raised).\n",
    "It recursively computes the sum of the digits of n raised to the power p.\n",
    "The driver code takes an input number n from the user and calculates the number of digits in n.\n",
    "It then checks if the input number is equal to the result of the armstrong_num function with parameters n and p.\n",
    "Finally, it prints True if the input number is an Armstrong number, and False otherwise.\n",
    "Time complexity is O(d), d for number of digit.\n",
    "Space comlexity is O(d), d for number of digit."
   ]
  },
  {
   "cell_type": "code",
   "execution_count": null,
   "id": "fda334eb-1ec1-4636-b804-6c22cce0ddfb",
   "metadata": {},
   "outputs": [],
   "source": [
    "\n"
   ]
  }
 ],
 "metadata": {
  "kernelspec": {
   "display_name": "Python 3 (ipykernel)",
   "language": "python",
   "name": "python3"
  },
  "language_info": {
   "codemirror_mode": {
    "name": "ipython",
    "version": 3
   },
   "file_extension": ".py",
   "mimetype": "text/x-python",
   "name": "python",
   "nbconvert_exporter": "python",
   "pygments_lexer": "ipython3",
   "version": "3.10.8"
  }
 },
 "nbformat": 4,
 "nbformat_minor": 5
}
